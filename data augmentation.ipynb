{
 "cells": [
  {
   "cell_type": "markdown",
   "id": "346b453a",
   "metadata": {},
   "source": [
    "## Installation"
   ]
  },
  {
   "cell_type": "code",
   "execution_count": 1,
   "id": "e582c47e",
   "metadata": {},
   "outputs": [],
   "source": [
    "#!pip install numpy requests nlpaug\n",
    "#!pip install torch>=1.6.0 transformers>=4.11.3 sentencepiece\n",
    "#!pip install nltk>=3.4.5"
   ]
  },
  {
   "cell_type": "markdown",
   "id": "fa063920",
   "metadata": {},
   "source": [
    "## Usage"
   ]
  },
  {
   "cell_type": "code",
   "execution_count": 2,
   "id": "85c3539e",
   "metadata": {},
   "outputs": [],
   "source": [
    "import nlpaug.augmenter.word as naw"
   ]
  },
  {
   "cell_type": "code",
   "execution_count": 3,
   "id": "024751a8",
   "metadata": {},
   "outputs": [],
   "source": [
    "def augmenter(action):\n",
    "    return naw.ContextualWordEmbsAug(model_path='dbmdz/bert-base-turkish-cased', action=action)"
   ]
  },
  {
   "cell_type": "code",
   "execution_count": 4,
   "id": "1204ae75",
   "metadata": {},
   "outputs": [],
   "source": [
    "text = \"İlaç kaydetmek istiyorum\""
   ]
  },
  {
   "cell_type": "code",
   "execution_count": null,
   "id": "e86e73c2",
   "metadata": {},
   "outputs": [],
   "source": [
    "action = \"insert\"\n",
    "for i in range(5):\n",
    "    augmented_text = augmenter(action).augment(text)\n",
    "    print(augmented_text)"
   ]
  },
  {
   "cell_type": "code",
   "execution_count": null,
   "id": "eebc2383",
   "metadata": {},
   "outputs": [],
   "source": [
    "action = \"substitute\"\n",
    "for i in range(5):\n",
    "    augmented_text = augmenter(action).augment(text)\n",
    "    print(augmented_text)"
   ]
  },
  {
   "cell_type": "markdown",
   "id": "1dd8058f",
   "metadata": {},
   "source": [
    "## Easy Data Augmentation (EDA) 🚜\n",
    "\n",
    "Please find here the model used below -> https://github.com/akoksal/Turkish-Word2Vec"
   ]
  },
  {
   "cell_type": "code",
   "execution_count": null,
   "id": "7a7e1a86",
   "metadata": {},
   "outputs": [],
   "source": [
    "#!pip install gensim"
   ]
  },
  {
   "cell_type": "code",
   "execution_count": 6,
   "id": "a5735764",
   "metadata": {},
   "outputs": [],
   "source": [
    "from gensim.models import KeyedVectors\n",
    "word_vectors = KeyedVectors.load_word2vec_format('trmodel', binary=True)"
   ]
  },
  {
   "cell_type": "code",
   "execution_count": 7,
   "id": "a2c6ba21",
   "metadata": {},
   "outputs": [],
   "source": [
    "sample_sentence = \"Karşımda beni ciddi ciddi süzen, küçük, eşi görülmedik biri duruyordu.\""
   ]
  },
  {
   "cell_type": "markdown",
   "id": "6e9624a4",
   "metadata": {},
   "source": [
    "### Synonym Replacement\n",
    "Select a word that is not a stop words and replace it its synonym."
   ]
  },
  {
   "cell_type": "code",
   "execution_count": 8,
   "id": "4eabc69e",
   "metadata": {},
   "outputs": [],
   "source": [
    "from random import randint"
   ]
  },
  {
   "cell_type": "code",
   "execution_count": 9,
   "id": "da3e5018",
   "metadata": {},
   "outputs": [
    {
     "data": {
      "text/plain": [
       "['Karşımda',\n",
       " 'beni',\n",
       " 'ciddi',\n",
       " 'ciddi',\n",
       " 'süzen,',\n",
       " 'küçük,',\n",
       " 'eşi',\n",
       " 'görülmedik',\n",
       " 'biri',\n",
       " 'duruyordu.']"
      ]
     },
     "execution_count": 9,
     "metadata": {},
     "output_type": "execute_result"
    }
   ],
   "source": [
    "tokenized_sentence = sample_sentence.split(\" \")\n",
    "tokenized_sentence"
   ]
  },
  {
   "cell_type": "code",
   "execution_count": 10,
   "id": "ed146d32",
   "metadata": {},
   "outputs": [],
   "source": [
    "while True:\n",
    "    random_idx = randint(0, len(tokenized_sentence) - 1)\n",
    "    random_word = tokenized_sentence[random_idx]\n",
    "    # there could be a word not included in dictionary if so, choose another.\n",
    "    try:\n",
    "        synonym_word = word_vectors.similar_by_word(random_word)[0][0]\n",
    "        break\n",
    "    except:\n",
    "        pass"
   ]
  },
  {
   "cell_type": "code",
   "execution_count": 11,
   "id": "2dfc5b0d",
   "metadata": {},
   "outputs": [
    {
     "data": {
      "text/plain": [
       "('ciddi', 'şiddetli')"
      ]
     },
     "execution_count": 11,
     "metadata": {},
     "output_type": "execute_result"
    }
   ],
   "source": [
    "random_word, synonym_word"
   ]
  },
  {
   "cell_type": "code",
   "execution_count": 12,
   "id": "fdac4038",
   "metadata": {},
   "outputs": [],
   "source": [
    "tokenized_sentence[random_idx] = synonym_word\n",
    "augmented_sentence = \" \".join(tokenized_sentence)"
   ]
  },
  {
   "cell_type": "code",
   "execution_count": 13,
   "id": "8cb69b3e",
   "metadata": {},
   "outputs": [
    {
     "data": {
      "text/plain": [
       "('Karşımda beni ciddi ciddi süzen, küçük, eşi görülmedik biri duruyordu.',\n",
       " 'Karşımda beni şiddetli ciddi süzen, küçük, eşi görülmedik biri duruyordu.')"
      ]
     },
     "execution_count": 13,
     "metadata": {},
     "output_type": "execute_result"
    }
   ],
   "source": [
    "sample_sentence, augmented_sentence"
   ]
  },
  {
   "cell_type": "code",
   "execution_count": null,
   "id": "5565113c",
   "metadata": {},
   "outputs": [],
   "source": []
  }
 ],
 "metadata": {
  "kernelspec": {
   "display_name": "Python 3 (ipykernel)",
   "language": "python",
   "name": "python3"
  },
  "language_info": {
   "codemirror_mode": {
    "name": "ipython",
    "version": 3
   },
   "file_extension": ".py",
   "mimetype": "text/x-python",
   "name": "python",
   "nbconvert_exporter": "python",
   "pygments_lexer": "ipython3",
   "version": "3.9.7"
  }
 },
 "nbformat": 4,
 "nbformat_minor": 5
}
