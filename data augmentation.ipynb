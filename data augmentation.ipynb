{
 "cells": [
  {
   "cell_type": "markdown",
   "id": "346b453a",
   "metadata": {},
   "source": [
    "## Installation"
   ]
  },
  {
   "cell_type": "code",
   "execution_count": 7,
   "id": "e582c47e",
   "metadata": {},
   "outputs": [],
   "source": [
    "#!pip install numpy requests nlpaug\n",
    "#!pip install torch>=1.6.0 transformers>=4.11.3 sentencepiece\n",
    "#!pip install nltk>=3.4.5"
   ]
  },
  {
   "cell_type": "markdown",
   "id": "fa063920",
   "metadata": {},
   "source": [
    "## Usage"
   ]
  },
  {
   "cell_type": "code",
   "execution_count": 2,
   "id": "85c3539e",
   "metadata": {},
   "outputs": [],
   "source": [
    "import nlpaug.augmenter.word as naw"
   ]
  },
  {
   "cell_type": "code",
   "execution_count": 3,
   "id": "024751a8",
   "metadata": {},
   "outputs": [],
   "source": [
    "def augmenter(action):\n",
    "    return naw.ContextualWordEmbsAug(model_path='dbmdz/bert-base-turkish-cased', action=action)"
   ]
  },
  {
   "cell_type": "code",
   "execution_count": 4,
   "id": "1204ae75",
   "metadata": {},
   "outputs": [],
   "source": [
    "text = \"İlaç kaydetmek istiyorum\""
   ]
  },
  {
   "cell_type": "code",
   "execution_count": 5,
   "id": "e86e73c2",
   "metadata": {},
   "outputs": [
    {
     "name": "stdout",
     "output_type": "stream",
     "text": [
      "İlaç yazıp kaydetmek istiyorum\n",
      "İlaç fiyatları kaydetmek istiyorum\n",
      "İlaç kaydetmek » istiyorum\n",
      "İlaç detaylarını kaydetmek istiyorum\n",
      "İlaç İlaç kaydetmek istiyorum\n"
     ]
    }
   ],
   "source": [
    "action = \"insert\"\n",
    "for i in range(5):\n",
    "    augmented_text = augmenter(action).augment(text)\n",
    "    print(augmented_text)"
   ]
  },
  {
   "cell_type": "code",
   "execution_count": 6,
   "id": "eebc2383",
   "metadata": {},
   "outputs": [
    {
     "name": "stdout",
     "output_type": "stream",
     "text": [
      "İlaç kaydetmek İçin\n",
      "filmi kaydetmek istiyorum\n",
      "ama kaydetmek istiyorum\n",
      "İlaç yaptırmak istiyorum\n",
      "Kendim kaydetmek istiyorum\n"
     ]
    }
   ],
   "source": [
    "action = \"substitute\"\n",
    "for i in range(5):\n",
    "    augmented_text = augmenter(action).augment(text)\n",
    "    print(augmented_text)"
   ]
  }
 ],
 "metadata": {
  "kernelspec": {
   "display_name": "Python 3 (ipykernel)",
   "language": "python",
   "name": "python3"
  },
  "language_info": {
   "codemirror_mode": {
    "name": "ipython",
    "version": 3
   },
   "file_extension": ".py",
   "mimetype": "text/x-python",
   "name": "python",
   "nbconvert_exporter": "python",
   "pygments_lexer": "ipython3",
   "version": "3.9.7"
  }
 },
 "nbformat": 4,
 "nbformat_minor": 5
}
