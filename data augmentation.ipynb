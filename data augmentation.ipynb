{
 "cells": [
  {
   "cell_type": "markdown",
   "id": "9c03ebf7",
   "metadata": {},
   "source": [
    "## Installation"
   ]
  },
  {
   "cell_type": "code",
   "execution_count": 1,
   "id": "b387e6af",
   "metadata": {},
   "outputs": [
    {
     "name": "stdout",
     "output_type": "stream",
     "text": [
      "Collecting numpy\n",
      "  Using cached numpy-1.21.4-cp39-cp39-macosx_10_9_x86_64.whl (17.0 MB)\n",
      "Collecting requests\n",
      "  Using cached requests-2.26.0-py2.py3-none-any.whl (62 kB)\n",
      "Collecting nlpaug\n",
      "  Using cached nlpaug-1.1.8-py3-none-any.whl (409 kB)\n",
      "Collecting urllib3<1.27,>=1.21.1\n",
      "  Using cached urllib3-1.26.7-py2.py3-none-any.whl (138 kB)\n",
      "Collecting idna<4,>=2.5\n",
      "  Using cached idna-3.3-py3-none-any.whl (61 kB)\n",
      "Collecting certifi>=2017.4.17\n",
      "  Using cached certifi-2021.10.8-py2.py3-none-any.whl (149 kB)\n",
      "Collecting charset-normalizer~=2.0.0\n",
      "  Using cached charset_normalizer-2.0.8-py3-none-any.whl (39 kB)\n",
      "Collecting pandas>=1.2.0\n",
      "  Using cached pandas-1.3.4-cp39-cp39-macosx_10_9_x86_64.whl (11.6 MB)\n",
      "Requirement already satisfied: python-dateutil>=2.7.3 in ./venv/lib/python3.9/site-packages (from pandas>=1.2.0->nlpaug) (2.8.2)\n",
      "Collecting pytz>=2017.3\n",
      "  Using cached pytz-2021.3-py2.py3-none-any.whl (503 kB)\n",
      "Requirement already satisfied: six>=1.5 in ./venv/lib/python3.9/site-packages (from python-dateutil>=2.7.3->pandas>=1.2.0->nlpaug) (1.16.0)\n",
      "Installing collected packages: urllib3, pytz, numpy, idna, charset-normalizer, certifi, requests, pandas, nlpaug\n",
      "Successfully installed certifi-2021.10.8 charset-normalizer-2.0.8 idna-3.3 nlpaug-1.1.8 numpy-1.21.4 pandas-1.3.4 pytz-2021.3 requests-2.26.0 urllib3-1.26.7\n"
     ]
    }
   ],
   "source": [
    "!pip install numpy requests nlpaug\n",
    "!pip install torch>=1.6.0 transformers>=4.11.3 sentencepiece\n",
    "!pip install nltk>=3.4.5"
   ]
  },
  {
   "cell_type": "markdown",
   "id": "ca8b2d81",
   "metadata": {},
   "source": [
    "## Usage"
   ]
  },
  {
   "cell_type": "code",
   "execution_count": 4,
   "id": "5533b954",
   "metadata": {},
   "outputs": [],
   "source": [
    "import nlpaug.augmenter.word as naw"
   ]
  },
  {
   "cell_type": "code",
   "execution_count": 12,
   "id": "e59badd1",
   "metadata": {},
   "outputs": [],
   "source": [
    "def augmenter(action):\n",
    "    return naw.ContextualWordEmbsAug(model_path='dbmdz/bert-base-turkish-cased', action=action)"
   ]
  },
  {
   "cell_type": "code",
   "execution_count": 21,
   "id": "9f54855b",
   "metadata": {},
   "outputs": [],
   "source": [
    "text = \"İlaç kaydetmek istiyorum\""
   ]
  },
  {
   "cell_type": "code",
   "execution_count": 24,
   "id": "28fe876f",
   "metadata": {},
   "outputs": [
    {
     "name": "stdout",
     "output_type": "stream",
     "text": [
      "İlaç kaydetmek bilgi istiyorum\n",
      "Eski İlaç kaydetmek istiyorum\n",
      "Otomatik İlaç kaydetmek istiyorum\n",
      "İlaç zamanını kaydetmek istiyorum\n",
      "İlaç kaydetmek dahi istiyorum\n"
     ]
    }
   ],
   "source": [
    "action = \"insert\"\n",
    "for i in range(5):\n",
    "    augmented_text = augmenter(action).augment(text)\n",
    "    print(augmented_text)"
   ]
  },
  {
   "cell_type": "code",
   "execution_count": 25,
   "id": "743ad149",
   "metadata": {},
   "outputs": [
    {
     "name": "stdout",
     "output_type": "stream",
     "text": [
      "dosyaları kaydetmek istiyorum\n",
      "İlaç yardım istiyorum\n",
      "İlaç kaydetmek için\n",
      "İlaç vermek istiyorum\n",
      "Önceden kaydetmek istiyorum\n"
     ]
    }
   ],
   "source": [
    "action = \"substitute\"\n",
    "for i in range(5):\n",
    "    augmented_text = augmenter(action).augment(text)\n",
    "    print(augmented_text)"
   ]
  }
 ],
 "metadata": {
  "kernelspec": {
   "display_name": "Python 3 (ipykernel)",
   "language": "python",
   "name": "python3"
  },
  "language_info": {
   "codemirror_mode": {
    "name": "ipython",
    "version": 3
   },
   "file_extension": ".py",
   "mimetype": "text/x-python",
   "name": "python",
   "nbconvert_exporter": "python",
   "pygments_lexer": "ipython3",
   "version": "3.9.7"
  }
 },
 "nbformat": 4,
 "nbformat_minor": 5
}
